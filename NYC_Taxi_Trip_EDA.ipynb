{
 "cells": [
  {
   "cell_type": "markdown",
   "metadata": {
    "application/vnd.databricks.v1+cell": {
     "cellMetadata": {},
     "inputWidgets": {},
     "nuid": "92e5e1d1-de8a-46a4-89fd-298eba7a4c5d",
     "showTitle": false,
     "tableResultSettingsMap": {},
     "title": ""
    }
   },
   "source": [
    "# EDA on NYC Taxi Trip Data"
   ]
  },
  {
   "cell_type": "code",
   "execution_count": 0,
   "metadata": {
    "application/vnd.databricks.v1+cell": {
     "cellMetadata": {
      "byteLimit": 2048000,
      "rowLimit": 10000
     },
     "inputWidgets": {},
     "nuid": "fb142a32-c635-474e-97a7-b50f0f2b623d",
     "showTitle": false,
     "tableResultSettingsMap": {},
     "title": ""
    }
   },
   "outputs": [
    {
     "output_type": "stream",
     "name": "stdout",
     "output_type": "stream",
     "text": [
      "Out[3]: DataFrame[lpep_pickup_datetime: string, lpep_dropoff_datetime: string, day_category: string, pickup_time: string, RatecodeID: string, PULocationID: int, PUBorough: string, PUZone: string, DOLocationID: int, DOBorough: string, DOZone: string, passenger_count: string, trip_distance: double, distance_bins: string, fare_amount: double, fare_amount_bins: string, tip_amount: double, tip_amount_bins: string, payment_type: string, trip_type: string, trip_duration: double, duration_bins: string, speed: double, speed_bins: string]"
     ]
    }
   ],
   "source": [
    "# Load data\n",
    "from pyspark.sql import SparkSession\n",
    "\n",
    "spark = SparkSession.builder.appName(\"NYC Taxi Tip EDA\").getOrCreate()\n",
    "df = spark.read.csv(\"/FileStore/tables/NYC_Taxi_Trip_Record_Clean.csv\", header=True, inferSchema=True)\n",
    "df.cache()"
   ]
  },
  {
   "cell_type": "code",
   "execution_count": 0,
   "metadata": {
    "application/vnd.databricks.v1+cell": {
     "cellMetadata": {
      "byteLimit": 2048000,
      "rowLimit": 10000
     },
     "inputWidgets": {},
     "nuid": "bdb0918a-8bb7-4b36-9d04-ec530cb4a046",
     "showTitle": false,
     "tableResultSettingsMap": {},
     "title": ""
    }
   },
   "outputs": [
    {
     "output_type": "stream",
     "name": "stdout",
     "output_type": "stream",
     "text": [
      "root\n |-- lpep_pickup_datetime: string (nullable = true)\n |-- lpep_dropoff_datetime: string (nullable = true)\n |-- day_category: string (nullable = true)\n |-- pickup_time: string (nullable = true)\n |-- RatecodeID: string (nullable = true)\n |-- PULocationID: integer (nullable = true)\n |-- PUBorough: string (nullable = true)\n |-- PUZone: string (nullable = true)\n |-- DOLocationID: integer (nullable = true)\n |-- DOBorough: string (nullable = true)\n |-- DOZone: string (nullable = true)\n |-- passenger_count: string (nullable = true)\n |-- trip_distance: double (nullable = true)\n |-- distance_bins: string (nullable = true)\n |-- fare_amount: double (nullable = true)\n |-- fare_amount_bins: string (nullable = true)\n |-- tip_amount: double (nullable = true)\n |-- tip_amount_bins: string (nullable = true)\n |-- payment_type: string (nullable = true)\n |-- trip_type: string (nullable = true)\n |-- trip_duration: double (nullable = true)\n |-- duration_bins: string (nullable = true)\n |-- speed: double (nullable = true)\n |-- speed_bins: string (nullable = true)\n\n"
     ]
    }
   ],
   "source": [
    "# Display schema\n",
    "df.printSchema()"
   ]
  },
  {
   "cell_type": "code",
   "execution_count": 0,
   "metadata": {
    "application/vnd.databricks.v1+cell": {
     "cellMetadata": {
      "byteLimit": 2048000,
      "rowLimit": 10000
     },
     "inputWidgets": {},
     "nuid": "bc2c212c-da64-455e-a2c9-31616ca488b7",
     "showTitle": false,
     "tableResultSettingsMap": {},
     "title": ""
    }
   },
   "outputs": [
    {
     "output_type": "stream",
     "name": "stdout",
     "output_type": "stream",
     "text": [
      "+--------------------+---------------------+------------+-----------+-------------+------------+---------+-------------------+------------+---------+--------------------+---------------+-------------+-------------+-----------+----------------+----------+---------------+------------+-----------+-------------+-------------+-----+----------+\n|lpep_pickup_datetime|lpep_dropoff_datetime|day_category|pickup_time|   RatecodeID|PULocationID|PUBorough|             PUZone|DOLocationID|DOBorough|              DOZone|passenger_count|trip_distance|distance_bins|fare_amount|fare_amount_bins|tip_amount|tip_amount_bins|payment_type|  trip_type|trip_duration|duration_bins|speed|speed_bins|\n+--------------------+---------------------+------------+-----------+-------------+------------+---------+-------------------+------------+---------+--------------------+---------------+-------------+-------------+-----------+----------------+----------+---------------+------------+-----------+-------------+-------------+-----+----------+\n|     01-01-2023 0.26|      01-01-2023 0.37|     Weekend|   Midnight|Standard rate|         166|Manhattan|Morningside Heights|         143|Manhattan| Lincoln Square West|              1|         2.58|    3-6 miles|       14.9|            <20$|      4.03|           1-5$| Credit card|Street-hail|        11.02|11-20 minutes|14.05| 11-20 mph|\n|     01-01-2023 0.51|      01-01-2023 0.57|     Weekend|   Midnight|Standard rate|          24|Manhattan|       Bloomingdale|          43|Manhattan|        Central Park|              1|         1.81|     <2 miles|       10.7|            <20$|      2.64|           1-5$| Credit card|Street-hail|         6.77|  <10 minutes|16.04| 11-20 mph|\n|     01-01-2023 0.13|      01-01-2023 0.19|     Weekend|   Midnight|Standard rate|          41|Manhattan|     Central Harlem|         238|Manhattan|Upper West Side N...|              1|          1.3|     <2 miles|        6.5|            <20$|       1.7|           1-5$| Credit card|Street-hail|         5.82|  <10 minutes| 13.4| 11-20 mph|\n|     01-01-2023 0.33|      01-01-2023 0.39|     Weekend|   Midnight|Standard rate|          41|Manhattan|     Central Harlem|          74|Manhattan|   East Harlem North|              1|          1.1|     <2 miles|        6.0|            <20$|       0.0|             0$| Credit card|Street-hail|         5.97|  <10 minutes|11.06| 11-20 mph|\n|     01-01-2023 0.53|      01-01-2023 1.11|     Weekend|   Midnight|Standard rate|          41|Manhattan|     Central Harlem|         262|Manhattan|      Yorkville East|              1|         2.78|    3-6 miles|       17.7|            <20$|       0.0|             0$|        Cash|Street-hail|        17.55|11-20 minutes|  9.5|   <10 mph|\n+--------------------+---------------------+------------+-----------+-------------+------------+---------+-------------------+------------+---------+--------------------+---------------+-------------+-------------+-----------+----------------+----------+---------------+------------+-----------+-------------+-------------+-----+----------+\nonly showing top 5 rows\n\n"
     ]
    }
   ],
   "source": [
    "# Show sample records\n",
    "df.show(5)"
   ]
  },
  {
   "cell_type": "code",
   "execution_count": 0,
   "metadata": {
    "application/vnd.databricks.v1+cell": {
     "cellMetadata": {
      "byteLimit": 2048000,
      "rowLimit": 10000
     },
     "inputWidgets": {},
     "nuid": "4660a98c-0d3a-424d-bc22-cf9c06fd9a7e",
     "showTitle": false,
     "tableResultSettingsMap": {},
     "title": ""
    }
   },
   "outputs": [
    {
     "output_type": "stream",
     "name": "stdout",
     "output_type": "stream",
     "text": [
      "Out[6]: 60698"
     ]
    }
   ],
   "source": [
    "# 1. Count number of rows\n",
    "df.count()"
   ]
  },
  {
   "cell_type": "code",
   "execution_count": 0,
   "metadata": {
    "application/vnd.databricks.v1+cell": {
     "cellMetadata": {},
     "inputWidgets": {},
     "nuid": "f492e576-b091-4564-9db4-7ad47c832538",
     "showTitle": false,
     "tableResultSettingsMap": {},
     "title": ""
    }
   },
   "outputs": [],
   "source": [
    "# 2. Summary statistics of numeric columns\n",
    "df.describe().show()"
   ]
  },
  {
   "cell_type": "code",
   "execution_count": 0,
   "metadata": {
    "application/vnd.databricks.v1+cell": {
     "cellMetadata": {
      "byteLimit": 2048000,
      "rowLimit": 10000
     },
     "inputWidgets": {},
     "nuid": "7ad71504-ff1d-439f-b912-a3dd50c750db",
     "showTitle": false,
     "tableResultSettingsMap": {},
     "title": ""
    }
   },
   "outputs": [
    {
     "output_type": "display_data",
     "data": {
      "text/plain": [
       "\u001B[0;31m---------------------------------------------------------------------------\u001B[0m\n",
       "\u001B[0;31mNameError\u001B[0m                                 Traceback (most recent call last)\n",
       "File \u001B[0;32m<command-2041903538932225>:3\u001B[0m\n",
       "\u001B[1;32m      1\u001B[0m \u001B[38;5;66;03m# 3. Display tip distribution using histogram\u001B[39;00m\n",
       "\u001B[0;32m----> 3\u001B[0m \u001B[43mTODO\u001B[49m\n",
       "\n",
       "\u001B[0;31mNameError\u001B[0m: name 'TODO' is not defined"
      ]
     },
     "metadata": {
      "application/vnd.databricks.v1+output": {
       "arguments": {},
       "data": "\u001B[0;31m---------------------------------------------------------------------------\u001B[0m\n\u001B[0;31mNameError\u001B[0m                                 Traceback (most recent call last)\nFile \u001B[0;32m<command-2041903538932225>:3\u001B[0m\n\u001B[1;32m      1\u001B[0m \u001B[38;5;66;03m# 3. Display tip distribution using histogram\u001B[39;00m\n\u001B[0;32m----> 3\u001B[0m \u001B[43mTODO\u001B[49m\n\n\u001B[0;31mNameError\u001B[0m: name 'TODO' is not defined",
       "errorSummary": "<span class='ansi-red-fg'>NameError</span>: name 'TODO' is not defined",
       "errorTraceType": "ansi",
       "metadata": {},
       "type": "ipynbError"
      }
     },
     "output_type": "display_data"
    }
   ],
   "source": [
    "# 3. Display tip distribution using histogram\n",
    "\n",
    "TODO"
   ]
  },
  {
   "cell_type": "code",
   "execution_count": 0,
   "metadata": {
    "application/vnd.databricks.v1+cell": {
     "cellMetadata": {
      "byteLimit": 2048000,
      "rowLimit": 10000
     },
     "inputWidgets": {},
     "nuid": "0d06a09f-877e-40db-94f6-d9b77726d0b3",
     "showTitle": false,
     "tableResultSettingsMap": {},
     "title": ""
    }
   },
   "outputs": [
    {
     "output_type": "stream",
     "name": "stdout",
     "output_type": "stream",
     "text": [
      "+---------------+------------------+\n|passenger_count|   avg(tip_amount)|\n+---------------+------------------+\n|              1|2.2478845308828332|\n|              2|2.2726701916721734|\n|              3| 2.309636576787808|\n|             >3| 2.434799190010125|\n+---------------+------------------+\n\n"
     ]
    }
   ],
   "source": [
    "# 4. Dsiplay Average tip by passenger count\n",
    "\n",
    "TODO"
   ]
  },
  {
   "cell_type": "code",
   "execution_count": 0,
   "metadata": {
    "application/vnd.databricks.v1+cell": {
     "cellMetadata": {},
     "inputWidgets": {},
     "nuid": "05610985-a37c-4822-9e1e-f721932fb517",
     "showTitle": false,
     "tableResultSettingsMap": {},
     "title": ""
    }
   },
   "outputs": [],
   "source": [
    "# 5. Display Total tip by payment type\n",
    "\n",
    "TODO"
   ]
  },
  {
   "cell_type": "code",
   "execution_count": 0,
   "metadata": {
    "application/vnd.databricks.v1+cell": {
     "cellMetadata": {},
     "inputWidgets": {},
     "nuid": "d8c2bd7e-b1bc-412b-965d-846402bae3f5",
     "showTitle": false,
     "tableResultSettingsMap": {},
     "title": ""
    }
   },
   "outputs": [],
   "source": [
    "# 6. Display tips greater than $5\n",
    "\n",
    "TODO"
   ]
  },
  {
   "cell_type": "code",
   "execution_count": 0,
   "metadata": {
    "application/vnd.databricks.v1+cell": {
     "cellMetadata": {},
     "inputWidgets": {},
     "nuid": "b71df65b-8c60-4fa8-ac46-46841e13cd73",
     "showTitle": false,
     "tableResultSettingsMap": {},
     "title": ""
    }
   },
   "outputs": [],
   "source": [
    "# 7. Display trips with tip > 50 (potential outliers)\n",
    "\n",
    "TODO"
   ]
  },
  {
   "cell_type": "code",
   "execution_count": 0,
   "metadata": {
    "application/vnd.databricks.v1+cell": {
     "cellMetadata": {},
     "inputWidgets": {},
     "nuid": "82011bf8-5233-4848-8737-d8ccd0f34710",
     "showTitle": false,
     "tableResultSettingsMap": {},
     "title": ""
    }
   },
   "outputs": [],
   "source": [
    "# 8. Display Correlation between trip_distance and tip amount\n",
    "\n",
    "TODO"
   ]
  },
  {
   "cell_type": "code",
   "execution_count": 0,
   "metadata": {
    "application/vnd.databricks.v1+cell": {
     "cellMetadata": {},
     "inputWidgets": {},
     "nuid": "1bdb72e9-f3af-4423-afca-42c4b651f650",
     "showTitle": false,
     "tableResultSettingsMap": {},
     "title": ""
    }
   },
   "outputs": [],
   "source": [
    "# 9. Plot: Tip amount vs fare amount scatter plot\n",
    "\n",
    "TODO"
   ]
  },
  {
   "cell_type": "code",
   "execution_count": 0,
   "metadata": {
    "application/vnd.databricks.v1+cell": {
     "cellMetadata": {},
     "inputWidgets": {},
     "nuid": "5e6ad2a6-b03a-4769-9f93-55cb528339c2",
     "showTitle": false,
     "tableResultSettingsMap": {},
     "title": ""
    }
   },
   "outputs": [],
   "source": [
    "# 11. Calculate average tip amount by pickup hour\n",
    "\n",
    "TODO"
   ]
  },
  {
   "cell_type": "code",
   "execution_count": 0,
   "metadata": {
    "application/vnd.databricks.v1+cell": {
     "cellMetadata": {},
     "inputWidgets": {},
     "nuid": "d9343cd2-bf94-4dc3-a0ff-03b25b466a3d",
     "showTitle": false,
     "tableResultSettingsMap": {},
     "title": ""
    }
   },
   "outputs": [],
   "source": [
    "# 12. Calculate Average tip per mile\n",
    "\n",
    "TODO"
   ]
  },
  {
   "cell_type": "code",
   "execution_count": 0,
   "metadata": {
    "application/vnd.databricks.v1+cell": {
     "cellMetadata": {},
     "inputWidgets": {},
     "nuid": "393d39e6-a0b9-41ac-aada-719600796e29",
     "showTitle": false,
     "tableResultSettingsMap": {},
     "title": ""
    }
   },
   "outputs": [],
   "source": [
    "# 13. Display records with zero or negative fare or tip\n",
    "\n",
    "TODO"
   ]
  },
  {
   "cell_type": "code",
   "execution_count": 0,
   "metadata": {
    "application/vnd.databricks.v1+cell": {
     "cellMetadata": {},
     "inputWidgets": {},
     "nuid": "e716f333-59da-4c7d-9117-a341da855269",
     "showTitle": false,
     "tableResultSettingsMap": {},
     "title": ""
    }
   },
   "outputs": [],
   "source": [
    "# 15. Display Tip amount by vendor\n",
    "\n",
    "TODO"
   ]
  },
  {
   "cell_type": "code",
   "execution_count": 0,
   "metadata": {
    "application/vnd.databricks.v1+cell": {
     "cellMetadata": {},
     "inputWidgets": {},
     "nuid": "0b43c675-046d-4e37-8628-36577b5802da",
     "showTitle": false,
     "tableResultSettingsMap": {},
     "title": ""
    }
   },
   "outputs": [],
   "source": [
    "# Line Chart: Identify the most profitable hours of the day for drivers based on average tips.\n",
    "\n",
    "## Group data by hour of day from the pickup time and calculate the average tip per hour.\n",
    "\n",
    "### Business Value: Helps taxi companies or freelance drivers decide optimal working hours.\n",
    "\n",
    "TODO\n"
   ]
  },
  {
   "cell_type": "code",
   "execution_count": 0,
   "metadata": {
    "application/vnd.databricks.v1+cell": {
     "cellMetadata": {},
     "inputWidgets": {},
     "nuid": "911d48a0-9563-4f24-9fdc-4733fa0a358f",
     "showTitle": false,
     "tableResultSettingsMap": {},
     "title": ""
    }
   },
   "outputs": [],
   "source": [
    "# Bar Chart - Analyze how the number of passengers affects tipping behavior.\n",
    "\n",
    "## Group data by passenger_count and calculate average or median tip amount.\n",
    "\n",
    "### Business Value: Offers insights for pricing strategies or pooling policies.\n",
    "\n",
    "TODO\n"
   ]
  },
  {
   "cell_type": "code",
   "execution_count": 0,
   "metadata": {
    "application/vnd.databricks.v1+cell": {
     "cellMetadata": {},
     "inputWidgets": {},
     "nuid": "c917366d-9992-44f6-bb18-921687b3c510",
     "showTitle": false,
     "tableResultSettingsMap": {},
     "title": ""
    }
   },
   "outputs": [],
   "source": [
    "# Scatter Plot - Visualize and detect anomalies or fraud by comparing fare amount and tip amount.\n",
    "## Plot tip amount vs. fare amount to see if there are any unusually high or low tips given certain fares.\n",
    "\n",
    "### Business Value: Identify suspicious or inconsistent tipping behavior for further investigation.\n",
    "\n",
    "TODO"
   ]
  }
 ],
 "metadata": {
  "application/vnd.databricks.v1+notebook": {
   "computePreferences": null,
   "dashboards": [],
   "environmentMetadata": null,
   "inputWidgetPreferences": null,
   "language": "python",
   "notebookMetadata": {
    "pythonIndentUnit": 4
   },
   "notebookName": "NYC_Taxi_Trip_EDA",
   "widgets": {}
  }
 },
 "nbformat": 4,
 "nbformat_minor": 0
}
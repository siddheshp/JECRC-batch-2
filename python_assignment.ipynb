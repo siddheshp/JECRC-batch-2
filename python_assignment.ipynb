{
 "cells": [
  {
   "cell_type": "markdown",
   "metadata": {
    "application/vnd.databricks.v1+cell": {
     "cellMetadata": {},
     "inputWidgets": {},
     "nuid": "b6ea958b-7cc1-45f1-9201-45abef838c62",
     "showTitle": false,
     "tableResultSettingsMap": {},
     "title": ""
    }
   },
   "source": [
    "# 📝 Assignment: Python Collections\n",
    "This notebook contains practice exercises on Python collections like List, Dictionary, Tuple, and Set."
   ]
  },
  {
   "cell_type": "markdown",
   "metadata": {
    "application/vnd.databricks.v1+cell": {
     "cellMetadata": {},
     "inputWidgets": {},
     "nuid": "08f6559a-5e7e-48de-b378-d2aef8446fea",
     "showTitle": false,
     "tableResultSettingsMap": {},
     "title": ""
    }
   },
   "source": [
    "## ✅ Part 1: List Operations\n",
    "Given the list of sales amounts:"
   ]
  },
  {
   "cell_type": "code",
   "execution_count": 0,
   "metadata": {
    "application/vnd.databricks.v1+cell": {
     "cellMetadata": {
      "byteLimit": 2048000,
      "rowLimit": 10000
     },
     "inputWidgets": {},
     "nuid": "10dfedbd-325c-4aa1-8629-2dfcd3d97ea4",
     "showTitle": false,
     "tableResultSettingsMap": {},
     "title": ""
    }
   },
   "outputs": [],
   "source": [
    "sales = [250, 300, 400, 150, 500, 200]"
   ]
  },
  {
   "cell_type": "markdown",
   "metadata": {
    "application/vnd.databricks.v1+cell": {
     "cellMetadata": {},
     "inputWidgets": {},
     "nuid": "d3d74137-5739-4ab9-adc8-64d2fd62a190",
     "showTitle": false,
     "tableResultSettingsMap": {},
     "title": ""
    }
   },
   "source": [
    "**Tasks:**\n",
    "1. Find the total sales.\n",
    "2. Calculate the average sale amount.\n",
    "3. Print sale values above 300.\n",
    "4. Add `350` to the list.\n",
    "5. Sort the list in descending order."
   ]
  },
  {
   "cell_type": "markdown",
   "metadata": {
    "application/vnd.databricks.v1+cell": {
     "cellMetadata": {},
     "inputWidgets": {},
     "nuid": "657c7757-b300-4c83-b6d8-849dfe05bb71",
     "showTitle": false,
     "tableResultSettingsMap": {},
     "title": ""
    }
   },
   "source": [
    "## ✅ Part 2: Dictionary Operations\n",
    "Create a dictionary with product names and their prices:"
   ]
  },
  {
   "cell_type": "code",
   "execution_count": 0,
   "metadata": {
    "application/vnd.databricks.v1+cell": {
     "cellMetadata": {},
     "inputWidgets": {},
     "nuid": "601cf021-8422-49d7-9646-5d77a268fb2a",
     "showTitle": false,
     "tableResultSettingsMap": {},
     "title": ""
    }
   },
   "outputs": [],
   "source": [
    "products = {\n",
    "    \"Laptop\": 70000,\n",
    "    \"Mouse\": 500,\n",
    "    \"Keyboard\": 1500,\n",
    "    \"Monitor\": 12000\n",
    "}"
   ]
  },
  {
   "cell_type": "markdown",
   "metadata": {
    "application/vnd.databricks.v1+cell": {
     "cellMetadata": {},
     "inputWidgets": {},
     "nuid": "64050f28-a014-40de-856a-1d8a2c7a14b8",
     "showTitle": false,
     "tableResultSettingsMap": {},
     "title": ""
    }
   },
   "source": [
    "**Tasks:**\n",
    "1. Print the price of the \"Monitor\".\n",
    "2. Add a new product `\"Webcam\"` with price `3000`.\n",
    "3. Update the price of \"Mouse\" to `550`.\n",
    "4. Print all product names and prices using a loop."
   ]
  }
 ],
 "metadata": {
  "application/vnd.databricks.v1+notebook": {
   "computePreferences": null,
   "dashboards": [],
   "environmentMetadata": null,
   "inputWidgetPreferences": null,
   "language": "python",
   "notebookMetadata": {
    "pythonIndentUnit": 4
   },
   "notebookName": "python_assignment",
   "widgets": {}
  },
  "kernelspec": {
   "display_name": "Python 3",
   "language": "python",
   "name": "python3"
  },
  "language_info": {
   "name": "python",
   "version": "3.8"
  }
 },
 "nbformat": 4,
 "nbformat_minor": 0
}